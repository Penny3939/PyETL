{
 "cells": [
  {
   "cell_type": "code",
   "execution_count": 1,
   "id": "e2526410",
   "metadata": {},
   "outputs": [
    {
     "name": "stdout",
     "output_type": "stream",
     "text": [
      "200\n",
      "TESCOM 大風量負離子吹風機TID292TW\n",
      "Panasonic 國際牌奈米水離子吹風機 EH-NA46\n",
      "Salonia 日本熱銷 吹風機 負離子 大風量 SL-013 速乾 摺疊  一年保固\n",
      "Panasonic國際牌 奈米水離子吹風機EH-NA9L\n",
      "國際牌奈米水離子吹風機EH-NA55-PN\n",
      "【Panasonic 國際牌】高滲透水離子吹風機 禮盒組 (EH-NA0G-A1)\n",
      "【MIDORI美多莉】高風速溫控負離子吹風機+贈收納袋-白\n",
      "【MIDORI美多莉】高風速溫控負離子吹風機+贈收納袋-灰\n",
      "Dyson Supersonic 吹風機 HD08 桃紅色\n",
      "國際牌奈米水離子吹風機 EH-NA27-PP\n",
      "TESCOM防靜電大風量吹風機TID2200TW(白)\n",
      "國際牌奈米水離子吹風機 EH-NA27-W\n",
      "TESCOM專業型大風量負離子吹風機TID960TW\n",
      "Panasonic國際牌 負離子吹風機EH-NE14 (白色)\n",
      "TESCOM大風量負離子吹風機TID450\n",
      "Panasonic 國際牌負離子吹風機 EH-NE57-A(藍色)\n",
      "達新牌 國際雙壓 負離子折疊吹風機 FD-180\n",
      "Panasonic 國際牌負離子吹風機 EH-NE57-P(粉色)\n",
      "Panasonic 國際牌 負離子速乾型冷熱吹風機  EH-NE11\n",
      "【ZERO｜零式】 職人護髮離子吹風機 HyperSonic+ 旗艦大風量 | 冷暖循環風 | 活性陶瓷\n"
     ]
    }
   ],
   "source": [
    "import requests\n",
    "\n",
    "url = \"https://ecshweb.pchome.com.tw/search/v3.3/all/results?q=吹風機&page=1&sort=sale/dc\"\n",
    "\n",
    "res = requests.get(url)\n",
    "\n",
    "print(res.status_code)\n",
    "\n",
    "res_dict = res.json()\n",
    "\n",
    "#方法一: 當沒有資料庫的時候\n",
    "# for prod in res_dict[\"prods\"]:\n",
    "#   print(prod[\"name\"])\n",
    "\n",
    "#當有資料庫的時候\n",
    "with open(\"pchome.txt\", \"a\", encoding = \"utf-8\") as f:\n",
    "  for prod in res_dict[\"prods\"]:\n",
    "    print(prod[\"name\"])\n",
    "    f.write(prod[\"name\"] + \"\\n\")\n"
   ]
  },
  {
   "cell_type": "code",
   "execution_count": null,
   "id": "d4b2a86b",
   "metadata": {},
   "outputs": [],
   "source": []
  }
 ],
 "metadata": {
  "kernelspec": {
   "display_name": "Python 3 (ipykernel)",
   "language": "python",
   "name": "python3"
  },
  "language_info": {
   "codemirror_mode": {
    "name": "ipython",
    "version": 3
   },
   "file_extension": ".py",
   "mimetype": "text/x-python",
   "name": "python",
   "nbconvert_exporter": "python",
   "pygments_lexer": "ipython3",
   "version": "3.8.10"
  }
 },
 "nbformat": 4,
 "nbformat_minor": 5
}
