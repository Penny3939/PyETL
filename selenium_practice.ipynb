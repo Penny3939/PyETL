{
 "cells": [
  {
   "cell_type": "markdown",
   "id": "2cf5d53b",
   "metadata": {},
   "source": [
    "# 使用selenium 自動IG登入"
   ]
  },
  {
   "cell_type": "code",
   "execution_count": 24,
   "id": "06edc671",
   "metadata": {},
   "outputs": [],
   "source": [
    "from selenium.webdriver import Chrome\n",
    "from selenium.webdriver.common.by import By\n",
    "import time"
   ]
  },
  {
   "cell_type": "code",
   "execution_count": 23,
   "id": "3bd13b53",
   "metadata": {},
   "outputs": [
    {
     "name": "stderr",
     "output_type": "stream",
     "text": [
      "C:\\Users\\Tibame_EX14\\AppData\\Local\\Temp\\ipykernel_4276\\3292389806.py:1: DeprecationWarning: executable_path has been deprecated, please pass in a Service object\n",
      "  driver = Chrome(\"./chromedriver\")\n"
     ]
    }
   ],
   "source": [
    "driver = Chrome(\"./chromedriver\")\n",
    "driver.get(\"https://www.instagram.com/\")\n",
    "\n",
    "IGID = 's91151kj@yahoo.com.tw'  #輸入IG登入帳號\n",
    "IGpassword = 'Aa003413'         #輸入IG登入密碼\n",
    "\n",
    "\n",
    "#find=> find_element\n",
    "#find_all=> find_elements\n",
    "driver.find_element(By.CSS_SELECTOR, 'input[name=\"username\"]').send_keys(IGID)       #登入IG帳號\n",
    "\n",
    "# 使用 By.ID 定位器找到 id 為 \"_aa4a\" 的元素並輸入值\n",
    "driver.find_element(By.CSS_SELECTOR, 'input[name=\"password\"]').send_keys(IGpassword) #登入IG密碼\n",
    "time.sleep(1)\n",
    "\n",
    "driver.find_element(By.CLASS_NAME, \"_acap\").click()\n",
    "time.sleep(3)\n",
    "\n",
    "driver.find_element(By.XPATH, '//div[contains(text(), \"稍後再說\")]').click() #是否儲存密碼\n",
    "time.sleep(3)\n",
    "\n",
    "driver.find_element(By.CLASS_NAME, \"_a9--\").click()                          #是否開啟通知\n",
    "time.sleep(3)\n",
    "\n",
    "\n",
    "\n"
   ]
  },
  {
   "cell_type": "code",
   "execution_count": null,
   "id": "a3329bb5",
   "metadata": {},
   "outputs": [],
   "source": []
  },
  {
   "cell_type": "code",
   "execution_count": null,
   "id": "f12f175b",
   "metadata": {},
   "outputs": [],
   "source": []
  }
 ],
 "metadata": {
  "kernelspec": {
   "display_name": "Python 3 (ipykernel)",
   "language": "python",
   "name": "python3"
  },
  "language_info": {
   "codemirror_mode": {
    "name": "ipython",
    "version": 3
   },
   "file_extension": ".py",
   "mimetype": "text/x-python",
   "name": "python",
   "nbconvert_exporter": "python",
   "pygments_lexer": "ipython3",
   "version": "3.8.10"
  }
 },
 "nbformat": 4,
 "nbformat_minor": 5
}
