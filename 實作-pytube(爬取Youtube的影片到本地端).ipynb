{
 "cells": [
  {
   "cell_type": "markdown",
   "id": "1830f173",
   "metadata": {},
   "source": [
    "# 抓取Youtube的影片到本地端"
   ]
  },
  {
   "cell_type": "code",
   "execution_count": 3,
   "id": "6f0f5fdf",
   "metadata": {},
   "outputs": [
    {
     "data": {
      "text/plain": [
       "'C:\\\\Users\\\\Tibame_EX14\\\\Desktop\\\\Github_tibame15\\\\PyETL\\\\The Scientist - Radio Edit.mp4'"
      ]
     },
     "execution_count": 3,
     "metadata": {},
     "output_type": "execute_result"
    }
   ],
   "source": [
    "from pytube import YouTube\n",
    "yt = YouTube('https://www.youtube.com/watch?v=RB-RcX5DS5A')  #要爬取的youtbe網址\n",
    "(yt.streams                                                  #前後加上括號,表示同一句\n",
    "    .filter(progressive=True, file_extension='mp4')  #檔案要是mp4\n",
    "    .order_by('resolution')    #利用解析度做排序\n",
    "    .desc()                    #降序(高解析會在第一個)\n",
    "    .first()                   #找第一個\n",
    "    .download())               #下載"
   ]
  },
  {
   "cell_type": "code",
   "execution_count": null,
   "id": "36721dff",
   "metadata": {},
   "outputs": [],
   "source": []
  }
 ],
 "metadata": {
  "kernelspec": {
   "display_name": "Python 3 (ipykernel)",
   "language": "python",
   "name": "python3"
  },
  "language_info": {
   "codemirror_mode": {
    "name": "ipython",
    "version": 3
   },
   "file_extension": ".py",
   "mimetype": "text/x-python",
   "name": "python",
   "nbconvert_exporter": "python",
   "pygments_lexer": "ipython3",
   "version": "3.8.10"
  }
 },
 "nbformat": 4,
 "nbformat_minor": 5
}
